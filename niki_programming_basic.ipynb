{
  "nbformat": 4,
  "nbformat_minor": 0,
  "metadata": {
    "colab": {
      "name": "niki-programming_basic.ipynb",
      "provenance": []
    },
    "kernelspec": {
      "name": "python3",
      "display_name": "Python 3"
    },
    "language_info": {
      "name": "python"
    }
  },
  "cells": [
    {
      "cell_type": "code",
      "metadata": {
        "colab": {
          "base_uri": "https://localhost:8080/"
        },
        "id": "xxR4QQyG0vmh",
        "outputId": "cae4ed6a-370d-426c-e0c6-415e3a84641f"
      },
      "source": [
        "pip install requests"
      ],
      "execution_count": 1,
      "outputs": [
        {
          "output_type": "stream",
          "name": "stdout",
          "text": [
            "Requirement already satisfied: requests in /usr/local/lib/python3.7/dist-packages (2.23.0)\n",
            "Requirement already satisfied: certifi>=2017.4.17 in /usr/local/lib/python3.7/dist-packages (from requests) (2021.10.8)\n",
            "Requirement already satisfied: chardet<4,>=3.0.2 in /usr/local/lib/python3.7/dist-packages (from requests) (3.0.4)\n",
            "Requirement already satisfied: idna<3,>=2.5 in /usr/local/lib/python3.7/dist-packages (from requests) (2.10)\n",
            "Requirement already satisfied: urllib3!=1.25.0,!=1.25.1,<1.26,>=1.21.1 in /usr/local/lib/python3.7/dist-packages (from requests) (1.24.3)\n"
          ]
        }
      ]
    },
    {
      "cell_type": "code",
      "metadata": {
        "id": "-mB8InNm021t"
      },
      "source": [
        "import requests\n",
        "url = \"https://jsonplaceholder.typicode.com/users\"\n",
        "response = requests.get(url)"
      ],
      "execution_count": 2,
      "outputs": []
    },
    {
      "cell_type": "code",
      "metadata": {
        "colab": {
          "base_uri": "https://localhost:8080/"
        },
        "id": "0b_bIkrNgM0t",
        "outputId": "e3d6c0b1-1c0e-45ed-fcf8-e8c642feb584"
      },
      "source": [
        "help(requests)"
      ],
      "execution_count": 3,
      "outputs": [
        {
          "output_type": "stream",
          "name": "stdout",
          "text": [
            "Help on package requests:\n",
            "\n",
            "NAME\n",
            "    requests\n",
            "\n",
            "DESCRIPTION\n",
            "    Requests HTTP Library\n",
            "    ~~~~~~~~~~~~~~~~~~~~~\n",
            "    \n",
            "    Requests is an HTTP library, written in Python, for human beings.\n",
            "    Basic GET usage:\n",
            "    \n",
            "       >>> import requests\n",
            "       >>> r = requests.get('https://www.python.org')\n",
            "       >>> r.status_code\n",
            "       200\n",
            "       >>> b'Python is a programming language' in r.content\n",
            "       True\n",
            "    \n",
            "    ... or POST:\n",
            "    \n",
            "       >>> payload = dict(key1='value1', key2='value2')\n",
            "       >>> r = requests.post('https://httpbin.org/post', data=payload)\n",
            "       >>> print(r.text)\n",
            "       {\n",
            "         ...\n",
            "         \"form\": {\n",
            "           \"key1\": \"value1\",\n",
            "           \"key2\": \"value2\"\n",
            "         },\n",
            "         ...\n",
            "       }\n",
            "    \n",
            "    The other HTTP methods are supported - see `requests.api`. Full documentation\n",
            "    is at <https://requests.readthedocs.io>.\n",
            "    \n",
            "    :copyright: (c) 2017 by Kenneth Reitz.\n",
            "    :license: Apache 2.0, see LICENSE for more details.\n",
            "\n",
            "PACKAGE CONTENTS\n",
            "    __version__\n",
            "    _internal_utils\n",
            "    adapters\n",
            "    api\n",
            "    auth\n",
            "    certs\n",
            "    compat\n",
            "    cookies\n",
            "    exceptions\n",
            "    help\n",
            "    hooks\n",
            "    models\n",
            "    packages\n",
            "    sessions\n",
            "    status_codes\n",
            "    structures\n",
            "    utils\n",
            "\n",
            "FUNCTIONS\n",
            "    check_compatibility(urllib3_version, chardet_version)\n",
            "\n",
            "DATA\n",
            "    __author_email__ = 'me@kennethreitz.org'\n",
            "    __build__ = 140032\n",
            "    __cake__ = '✨ 🍰 ✨'\n",
            "    __copyright__ = 'Copyright 2020 Kenneth Reitz'\n",
            "    __description__ = 'Python HTTP for Humans.'\n",
            "    __license__ = 'Apache 2.0'\n",
            "    __title__ = 'requests'\n",
            "    __url__ = 'https://requests.readthedocs.io'\n",
            "    codes = <lookup 'status_codes'>\n",
            "\n",
            "VERSION\n",
            "    2.23.0\n",
            "\n",
            "AUTHOR\n",
            "    Kenneth Reitz\n",
            "\n",
            "FILE\n",
            "    /usr/local/lib/python3.7/dist-packages/requests/__init__.py\n",
            "\n",
            "\n"
          ]
        }
      ]
    },
    {
      "cell_type": "code",
      "metadata": {
        "colab": {
          "base_uri": "https://localhost:8080/"
        },
        "id": "f6XtCd54g2cm",
        "outputId": "aa47c79f-bf5c-4b58-8d6c-ce83e6d5055b"
      },
      "source": [
        "fetch_data = requests.get('https://jsonplaceholder.typicode.com/users')\n",
        "\n",
        "print(fetch_data)"
      ],
      "execution_count": 4,
      "outputs": [
        {
          "output_type": "stream",
          "name": "stdout",
          "text": [
            "<Response [200]>\n"
          ]
        }
      ]
    },
    {
      "cell_type": "code",
      "metadata": {
        "id": "dU2QpLwNALSI",
        "colab": {
          "base_uri": "https://localhost:8080/"
        },
        "outputId": "b7690117-e2a5-4f32-9f40-7e7e6b427efd"
      },
      "source": [
        "users = fetch_data.json()\n",
        "\n",
        "print(type(users))\n",
        "print(users)"
      ],
      "execution_count": 46,
      "outputs": [
        {
          "output_type": "stream",
          "name": "stdout",
          "text": [
            "<class 'list'>\n",
            "[{'id': 1, 'name': 'Leanne Graham', 'username': 'Bret', 'email': 'Sincere@april.biz', 'address': {'street': 'Kulas Light', 'suite': 'Apt. 556', 'city': 'Gwenborough', 'zipcode': '92998-3874', 'geo': {'lat': '-37.3159', 'lng': '81.1496'}}, 'phone': '1-770-736-8031 x56442', 'website': 'hildegard.org', 'company': {'name': 'Romaguera-Crona', 'catchPhrase': 'Multi-layered client-server neural-net', 'bs': 'harness real-time e-markets'}}, {'id': 2, 'name': 'Ervin Howell', 'username': 'Antonette', 'email': 'Shanna@melissa.tv', 'address': {'street': 'Victor Plains', 'suite': 'Suite 879', 'city': 'Wisokyburgh', 'zipcode': '90566-7771', 'geo': {'lat': '-43.9509', 'lng': '-34.4618'}}, 'phone': '010-692-6593 x09125', 'website': 'anastasia.net', 'company': {'name': 'Deckow-Crist', 'catchPhrase': 'Proactive didactic contingency', 'bs': 'synergize scalable supply-chains'}}, {'id': 3, 'name': 'Clementine Bauch', 'username': 'Samantha', 'email': 'Nathan@yesenia.net', 'address': {'street': 'Douglas Extension', 'suite': 'Suite 847', 'city': 'McKenziehaven', 'zipcode': '59590-4157', 'geo': {'lat': '-68.6102', 'lng': '-47.0653'}}, 'phone': '1-463-123-4447', 'website': 'ramiro.info', 'company': {'name': 'Romaguera-Jacobson', 'catchPhrase': 'Face to face bifurcated interface', 'bs': 'e-enable strategic applications'}}, {'id': 4, 'name': 'Patricia Lebsack', 'username': 'Karianne', 'email': 'Julianne.OConner@kory.org', 'address': {'street': 'Hoeger Mall', 'suite': 'Apt. 692', 'city': 'South Elvis', 'zipcode': '53919-4257', 'geo': {'lat': '29.4572', 'lng': '-164.2990'}}, 'phone': '493-170-9623 x156', 'website': 'kale.biz', 'company': {'name': 'Robel-Corkery', 'catchPhrase': 'Multi-tiered zero tolerance productivity', 'bs': 'transition cutting-edge web services'}}, {'id': 5, 'name': 'Chelsey Dietrich', 'username': 'Kamren', 'email': 'Lucio_Hettinger@annie.ca', 'address': {'street': 'Skiles Walks', 'suite': 'Suite 351', 'city': 'Roscoeview', 'zipcode': '33263', 'geo': {'lat': '-31.8129', 'lng': '62.5342'}}, 'phone': '(254)954-1289', 'website': 'demarco.info', 'company': {'name': 'Keebler LLC', 'catchPhrase': 'User-centric fault-tolerant solution', 'bs': 'revolutionize end-to-end systems'}}, {'id': 6, 'name': 'Mrs. Dennis Schulist', 'username': 'Leopoldo_Corkery', 'email': 'Karley_Dach@jasper.info', 'address': {'street': 'Norberto Crossing', 'suite': 'Apt. 950', 'city': 'South Christy', 'zipcode': '23505-1337', 'geo': {'lat': '-71.4197', 'lng': '71.7478'}}, 'phone': '1-477-935-8478 x6430', 'website': 'ola.org', 'company': {'name': 'Considine-Lockman', 'catchPhrase': 'Synchronised bottom-line interface', 'bs': 'e-enable innovative applications'}}, {'id': 7, 'name': 'Kurtis Weissnat', 'username': 'Elwyn.Skiles', 'email': 'Telly.Hoeger@billy.biz', 'address': {'street': 'Rex Trail', 'suite': 'Suite 280', 'city': 'Howemouth', 'zipcode': '58804-1099', 'geo': {'lat': '24.8918', 'lng': '21.8984'}}, 'phone': '210.067.6132', 'website': 'elvis.io', 'company': {'name': 'Johns Group', 'catchPhrase': 'Configurable multimedia task-force', 'bs': 'generate enterprise e-tailers'}}, {'id': 8, 'name': 'Nicholas Runolfsdottir V', 'username': 'Maxime_Nienow', 'email': 'Sherwood@rosamond.me', 'address': {'street': 'Ellsworth Summit', 'suite': 'Suite 729', 'city': 'Aliyaview', 'zipcode': '45169', 'geo': {'lat': '-14.3990', 'lng': '-120.7677'}}, 'phone': '586.493.6943 x140', 'website': 'jacynthe.com', 'company': {'name': 'Abernathy Group', 'catchPhrase': 'Implemented secondary concept', 'bs': 'e-enable extensible e-tailers'}}, {'id': 9, 'name': 'Glenna Reichert', 'username': 'Delphine', 'email': 'Chaim_McDermott@dana.io', 'address': {'street': 'Dayna Park', 'suite': 'Suite 449', 'city': 'Bartholomebury', 'zipcode': '76495-3109', 'geo': {'lat': '24.6463', 'lng': '-168.8889'}}, 'phone': '(775)976-6794 x41206', 'website': 'conrad.com', 'company': {'name': 'Yost and Sons', 'catchPhrase': 'Switchable contextually-based project', 'bs': 'aggregate real-time technologies'}}, {'id': 10, 'name': 'Clementina DuBuque', 'username': 'Moriah.Stanton', 'email': 'Rey.Padberg@karina.biz', 'address': {'street': 'Kattie Turnpike', 'suite': 'Suite 198', 'city': 'Lebsackbury', 'zipcode': '31428-2261', 'geo': {'lat': '-38.2386', 'lng': '57.2232'}}, 'phone': '024-648-3804', 'website': 'ambrose.net', 'company': {'name': 'Hoeger LLC', 'catchPhrase': 'Centralized empowering task-force', 'bs': 'target end-to-end models'}}]\n"
          ]
        }
      ]
    },
    {
      "cell_type": "code",
      "metadata": {
        "colab": {
          "base_uri": "https://localhost:8080/"
        },
        "id": "zz2f2s_pt1X8",
        "outputId": "ae23dee3-46e5-4ccf-9ad7-7d418f88f68f"
      },
      "source": [
        "selected_users = users[2:7]\n",
        "\n",
        "selected_users\n"
      ],
      "execution_count": 48,
      "outputs": [
        {
          "output_type": "execute_result",
          "data": {
            "text/plain": [
              "[{'address': {'city': 'McKenziehaven',\n",
              "   'geo': {'lat': '-68.6102', 'lng': '-47.0653'},\n",
              "   'street': 'Douglas Extension',\n",
              "   'suite': 'Suite 847',\n",
              "   'zipcode': '59590-4157'},\n",
              "  'company': {'bs': 'e-enable strategic applications',\n",
              "   'catchPhrase': 'Face to face bifurcated interface',\n",
              "   'name': 'Romaguera-Jacobson'},\n",
              "  'email': 'Nathan@yesenia.net',\n",
              "  'id': 3,\n",
              "  'name': 'Clementine Bauch',\n",
              "  'phone': '1-463-123-4447',\n",
              "  'username': 'Samantha',\n",
              "  'website': 'ramiro.info'},\n",
              " {'address': {'city': 'South Elvis',\n",
              "   'geo': {'lat': '29.4572', 'lng': '-164.2990'},\n",
              "   'street': 'Hoeger Mall',\n",
              "   'suite': 'Apt. 692',\n",
              "   'zipcode': '53919-4257'},\n",
              "  'company': {'bs': 'transition cutting-edge web services',\n",
              "   'catchPhrase': 'Multi-tiered zero tolerance productivity',\n",
              "   'name': 'Robel-Corkery'},\n",
              "  'email': 'Julianne.OConner@kory.org',\n",
              "  'id': 4,\n",
              "  'name': 'Patricia Lebsack',\n",
              "  'phone': '493-170-9623 x156',\n",
              "  'username': 'Karianne',\n",
              "  'website': 'kale.biz'},\n",
              " {'address': {'city': 'Roscoeview',\n",
              "   'geo': {'lat': '-31.8129', 'lng': '62.5342'},\n",
              "   'street': 'Skiles Walks',\n",
              "   'suite': 'Suite 351',\n",
              "   'zipcode': '33263'},\n",
              "  'company': {'bs': 'revolutionize end-to-end systems',\n",
              "   'catchPhrase': 'User-centric fault-tolerant solution',\n",
              "   'name': 'Keebler LLC'},\n",
              "  'email': 'Lucio_Hettinger@annie.ca',\n",
              "  'id': 5,\n",
              "  'name': 'Chelsey Dietrich',\n",
              "  'phone': '(254)954-1289',\n",
              "  'username': 'Kamren',\n",
              "  'website': 'demarco.info'},\n",
              " {'address': {'city': 'South Christy',\n",
              "   'geo': {'lat': '-71.4197', 'lng': '71.7478'},\n",
              "   'street': 'Norberto Crossing',\n",
              "   'suite': 'Apt. 950',\n",
              "   'zipcode': '23505-1337'},\n",
              "  'company': {'bs': 'e-enable innovative applications',\n",
              "   'catchPhrase': 'Synchronised bottom-line interface',\n",
              "   'name': 'Considine-Lockman'},\n",
              "  'email': 'Karley_Dach@jasper.info',\n",
              "  'id': 6,\n",
              "  'name': 'Mrs. Dennis Schulist',\n",
              "  'phone': '1-477-935-8478 x6430',\n",
              "  'username': 'Leopoldo_Corkery',\n",
              "  'website': 'ola.org'},\n",
              " {'address': {'city': 'Howemouth',\n",
              "   'geo': {'lat': '24.8918', 'lng': '21.8984'},\n",
              "   'street': 'Rex Trail',\n",
              "   'suite': 'Suite 280',\n",
              "   'zipcode': '58804-1099'},\n",
              "  'company': {'bs': 'generate enterprise e-tailers',\n",
              "   'catchPhrase': 'Configurable multimedia task-force',\n",
              "   'name': 'Johns Group'},\n",
              "  'email': 'Telly.Hoeger@billy.biz',\n",
              "  'id': 7,\n",
              "  'name': 'Kurtis Weissnat',\n",
              "  'phone': '210.067.6132',\n",
              "  'username': 'Elwyn.Skiles',\n",
              "  'website': 'elvis.io'}]"
            ]
          },
          "metadata": {},
          "execution_count": 48
        }
      ]
    },
    {
      "cell_type": "code",
      "metadata": {
        "id": "07pA6aX7HoX6"
      },
      "source": [
        ""
      ],
      "execution_count": null,
      "outputs": []
    },
    {
      "cell_type": "code",
      "metadata": {
        "id": "4IFCMwxrHvas"
      },
      "source": [
        "del selected_users[1]"
      ],
      "execution_count": 49,
      "outputs": []
    }
  ]
}